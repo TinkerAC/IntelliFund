{
 "cells": [
  {
   "cell_type": "code",
   "id": "519b9895787d7bbb",
   "metadata": {
    "collapsed": true,
    "ExecuteTime": {
     "end_time": "2024-07-11T09:31:34.242178Z",
     "start_time": "2024-07-11T09:31:30.076270Z"
    }
   },
   "source": [
    "import os\n",
    "import pandas as pd\n",
    "import numpy as np\n",
    "import torch\n",
    "from src import train, predict\n",
    "from src.utils import plot_fit_figures\n",
    "import traceback\n",
    "from src.lstm import LSTM\n",
    "from sklearn.model_selection import ParameterGrid\n",
    "import itertools\n",
    "from src.utils import eval_func\n",
    "from tqdm import tqdm"
   ],
   "outputs": [],
   "execution_count": 1
  },
  {
   "metadata": {
    "ExecuteTime": {
     "end_time": "2024-07-11T09:31:34.258173Z",
     "start_time": "2024-07-11T09:31:34.244181Z"
    }
   },
   "cell_type": "code",
   "source": [
    "# 超参数的可能值\n",
    "best_params = {\n",
    "    'hidden_size': 56,\n",
    "    'num_layers': 2,\n",
    "    'batch_size': 64,\n",
    "    'seq_len': 64,\n",
    "}\n",
    "\n",
    "hidden_size_options = [64]\n",
    "num_layers_options = [2]\n",
    "batch_size_options = [64]\n",
    "seq_len_options = [64]\n",
    "# 所有超参数组合\n",
    "param_grid = list(itertools.product(hidden_size_options, num_layers_options, batch_size_options, seq_len_options))"
   ],
   "id": "fc70ff7351908720",
   "outputs": [],
   "execution_count": 2
  },
  {
   "metadata": {
    "ExecuteTime": {
     "end_time": "2024-07-11T09:31:34.273445Z",
     "start_time": "2024-07-11T09:31:34.260187Z"
    }
   },
   "cell_type": "code",
   "source": "",
   "id": "208446b58d0448ff",
   "outputs": [],
   "execution_count": 2
  },
  {
   "metadata": {
    "ExecuteTime": {
     "end_time": "2024-07-11T09:31:34.288746Z",
     "start_time": "2024-07-11T09:31:34.276443Z"
    }
   },
   "cell_type": "code",
   "source": [
    "def run(best_config: dict, fund_code: str):\n",
    "    model = LSTM(input_size=7,\n",
    "                 output_size=7,\n",
    "                 hidden_size=best_config['hidden_size'],\n",
    "                 num_layers=best_config['num_layers'],\n",
    "                 )\n",
    "    config = {\n",
    "        'model': model,\n",
    "        'fund_code': fund_code,\n",
    "        'data_set_length': 1000,\n",
    "        'batch_size': best_config['batch_size'],\n",
    "        'num_epochs': 60,\n",
    "        'seq_len': best_config['seq_len'],\n",
    "    }\n",
    "    train(**config)\n",
    "    config.pop('num_epochs')\n",
    "    config.pop('data_set_length')\n",
    "    predictions, groundtruths = predict(**config,predict_steps=1000)\n",
    "    plot_fit_figures(fund_code=fund_code, predictions=predictions, groundtruths=groundtruths)\n",
    "    mse, mae, rmse, smape = eval_func(predictions, groundtruths)\n",
    "    \n",
    "    print(f'mse: {mse}, mae: {mae}, rmse: {rmse}, smape: {smape}')\n",
    "    return predictions, groundtruths\n"
   ],
   "id": "83fd231bc15bd7ae",
   "outputs": [],
   "execution_count": 3
  },
  {
   "metadata": {
    "ExecuteTime": {
     "end_time": "2024-07-11T09:31:54.582430Z",
     "start_time": "2024-07-11T09:31:34.290802Z"
    }
   },
   "cell_type": "code",
   "source": " run(best_params, fund_code='519606')\n",
   "id": "7931c9a8564a62bf",
   "outputs": [
    {
     "name": "stdout",
     "output_type": "stream",
     "text": [
      "-------数据集加载中-------\n",
      "Dataset type: train, data length: 717\n",
      "Dataset type: valid, data length: 204\n",
      "--------加载完成---------\n",
      "----开始在cpu上训练------\n"
     ]
    },
    {
     "name": "stderr",
     "output_type": "stream",
     "text": [
      "训练中: 519606: 100%|██████████| 60/60 [00:16<00:00,  3.59it/s]\n"
     ]
    },
    {
     "name": "stdout",
     "output_type": "stream",
     "text": [
      "--------训练完成---------\n",
      "-----loss曲线绘制完成-----\n",
      "-------模型保存完成-------\n",
      "Dataset type: test, data length: 409\n",
      "---------开始预测---------\n"
     ]
    },
    {
     "name": "stderr",
     "output_type": "stream",
     "text": [
      "预测中: 519606: 100%|██████████| 5/5 [00:00<00:00, 112.05it/s]\n",
      "继续预测: 100%|██████████| 1000/1000 [00:00<00:00, 1093.06it/s]\n"
     ]
    },
    {
     "name": "stdout",
     "output_type": "stream",
     "text": [
      "---------预测完成---------\n"
     ]
    },
    {
     "ename": "ValueError",
     "evalue": "operands could not be broadcast together with shapes (1320,7) (320,7) ",
     "output_type": "error",
     "traceback": [
      "\u001B[1;31m---------------------------------------------------------------------------\u001B[0m",
      "\u001B[1;31mValueError\u001B[0m                                Traceback (most recent call last)",
      "Cell \u001B[1;32mIn[4], line 1\u001B[0m\n\u001B[1;32m----> 1\u001B[0m \u001B[43mrun\u001B[49m\u001B[43m(\u001B[49m\u001B[43mbest_params\u001B[49m\u001B[43m,\u001B[49m\u001B[43m \u001B[49m\u001B[43mfund_code\u001B[49m\u001B[38;5;241;43m=\u001B[39;49m\u001B[38;5;124;43m'\u001B[39;49m\u001B[38;5;124;43m519606\u001B[39;49m\u001B[38;5;124;43m'\u001B[39;49m\u001B[43m)\u001B[49m\n",
      "Cell \u001B[1;32mIn[3], line 18\u001B[0m, in \u001B[0;36mrun\u001B[1;34m(best_config, fund_code)\u001B[0m\n\u001B[0;32m     16\u001B[0m config\u001B[38;5;241m.\u001B[39mpop(\u001B[38;5;124m'\u001B[39m\u001B[38;5;124mnum_epochs\u001B[39m\u001B[38;5;124m'\u001B[39m)\n\u001B[0;32m     17\u001B[0m config\u001B[38;5;241m.\u001B[39mpop(\u001B[38;5;124m'\u001B[39m\u001B[38;5;124mdata_set_length\u001B[39m\u001B[38;5;124m'\u001B[39m)\n\u001B[1;32m---> 18\u001B[0m predictions, groundtruths \u001B[38;5;241m=\u001B[39m predict(\u001B[38;5;241m*\u001B[39m\u001B[38;5;241m*\u001B[39mconfig,predict_steps\u001B[38;5;241m=\u001B[39m\u001B[38;5;241m1000\u001B[39m)\n\u001B[0;32m     19\u001B[0m plot_fit_figures(fund_code\u001B[38;5;241m=\u001B[39mfund_code, predictions\u001B[38;5;241m=\u001B[39mpredictions, groundtruths\u001B[38;5;241m=\u001B[39mgroundtruths)\n\u001B[0;32m     20\u001B[0m mse, mae, rmse, smape \u001B[38;5;241m=\u001B[39m eval_func(predictions, groundtruths)\n",
      "File \u001B[1;32mD:\\Workplace\\IntelliFund\\src\\predict.py:55\u001B[0m, in \u001B[0;36mpredict\u001B[1;34m(model, fund_code, seq_len, batch_size, step, predict_steps)\u001B[0m\n\u001B[0;32m     52\u001B[0m groundtruths \u001B[38;5;241m=\u001B[39m np\u001B[38;5;241m.\u001B[39mconcatenate(groundtruths, axis\u001B[38;5;241m=\u001B[39m\u001B[38;5;241m0\u001B[39m)\n\u001B[0;32m     54\u001B[0m \u001B[38;5;66;03m# 评估\u001B[39;00m\n\u001B[1;32m---> 55\u001B[0m \u001B[43meval_func\u001B[49m\u001B[43m(\u001B[49m\u001B[43mgroundtruths\u001B[49m\u001B[43m,\u001B[49m\u001B[43m \u001B[49m\u001B[43mpredictions\u001B[49m\u001B[43m)\u001B[49m\n\u001B[0;32m     56\u001B[0m \u001B[38;5;28mprint\u001B[39m(\u001B[38;5;124m\"\u001B[39m\u001B[38;5;124m---------评估完成---------\u001B[39m\u001B[38;5;124m\"\u001B[39m)\n\u001B[0;32m     58\u001B[0m \u001B[38;5;66;03m# 反归一化\u001B[39;00m\n",
      "File \u001B[1;32mD:\\Workplace\\IntelliFund\\src\\utils\\utils.py:121\u001B[0m, in \u001B[0;36meval_func\u001B[1;34m(actual_y, forecast_y)\u001B[0m\n\u001B[0;32m    119\u001B[0m \u001B[38;5;28;01mdef\u001B[39;00m \u001B[38;5;21meval_func\u001B[39m(actual_y, forecast_y):\n\u001B[0;32m    120\u001B[0m \u001B[38;5;250m    \u001B[39m\u001B[38;5;124;03m\"\"\"评估模型\"\"\"\u001B[39;00m\n\u001B[1;32m--> 121\u001B[0m     mse \u001B[38;5;241m=\u001B[39m np\u001B[38;5;241m.\u001B[39mmean((\u001B[43mforecast_y\u001B[49m\u001B[43m \u001B[49m\u001B[38;5;241;43m-\u001B[39;49m\u001B[43m \u001B[49m\u001B[43mactual_y\u001B[49m) \u001B[38;5;241m*\u001B[39m\u001B[38;5;241m*\u001B[39m \u001B[38;5;241m2\u001B[39m)  \u001B[38;5;66;03m# MSE\u001B[39;00m\n\u001B[0;32m    122\u001B[0m     mae \u001B[38;5;241m=\u001B[39m np\u001B[38;5;241m.\u001B[39mmean(np\u001B[38;5;241m.\u001B[39mabs(forecast_y \u001B[38;5;241m-\u001B[39m actual_y))  \u001B[38;5;66;03m# MAE\u001B[39;00m\n\u001B[0;32m    123\u001B[0m     rmse \u001B[38;5;241m=\u001B[39m np\u001B[38;5;241m.\u001B[39msqrt(np\u001B[38;5;241m.\u001B[39mmean((forecast_y \u001B[38;5;241m-\u001B[39m actual_y) \u001B[38;5;241m*\u001B[39m\u001B[38;5;241m*\u001B[39m \u001B[38;5;241m2\u001B[39m))  \u001B[38;5;66;03m# RMSE\u001B[39;00m\n",
      "\u001B[1;31mValueError\u001B[0m: operands could not be broadcast together with shapes (1320,7) (320,7) "
     ]
    }
   ],
   "execution_count": 4
  },
  {
   "metadata": {},
   "cell_type": "markdown",
   "source": "",
   "id": "b50b831255217fdd"
  },
  {
   "metadata": {},
   "cell_type": "code",
   "source": [
    "def grid_search(param_grid, fund_code):\n",
    "    with open('grid_search_results.csv', 'w', encoding=\"utf-8\") as f:\n",
    "        f.write('hidden_size,num_layers,batch_size,seq_len,mse,mae,rmse,smape\\n')\n",
    "        for param in tqdm(param_grid):\n",
    "            hidden_size, num_layers, batch_size, seq_len = param\n",
    "            model = LSTM(input_size=7,\n",
    "                         output_size=7,\n",
    "                         hidden_size=hidden_size,\n",
    "                         num_layers=num_layers,\n",
    "                         )\n",
    "            config = {\n",
    "                'model': model,\n",
    "                'fund_code': fund_code,\n",
    "                'data_set_length': 1000,\n",
    "                'batch_size': batch_size,\n",
    "                'num_epochs': 60,\n",
    "                'seq_len': seq_len,\n",
    "            }\n",
    "            try:\n",
    "                train(**config)\n",
    "                config.pop('num_epochs')\n",
    "                config.pop('data_set_length')\n",
    "                predictions, groundtruths = predict(**config)\n",
    "                plot_fit_figures(fund_code=fund_code, predictions=predictions, groundtruths=groundtruths)\n",
    "                mse, mae, rmse, smape = eval_func(predictions, groundtruths)\n",
    "                f.write(f'{hidden_size},{num_layers},{batch_size},{seq_len},{mse},{mae},{rmse},{smape}\\n')\n",
    "\n",
    "            except Exception as e:\n",
    "                print(param)\n",
    "                print(traceback.format_exc())\n",
    "                continue\n"
   ],
   "id": "c76a006ffaa13d87",
   "outputs": [],
   "execution_count": null
  },
  {
   "metadata": {},
   "cell_type": "code",
   "source": "",
   "id": "initial_id",
   "outputs": [],
   "execution_count": null
  }
 ],
 "metadata": {
  "kernelspec": {
   "display_name": "Python 3",
   "language": "python",
   "name": "python3"
  },
  "language_info": {
   "codemirror_mode": {
    "name": "ipython",
    "version": 2
   },
   "file_extension": ".py",
   "mimetype": "text/x-python",
   "name": "python",
   "nbconvert_exporter": "python",
   "pygments_lexer": "ipython2",
   "version": "2.7.6"
  }
 },
 "nbformat": 4,
 "nbformat_minor": 5
}
